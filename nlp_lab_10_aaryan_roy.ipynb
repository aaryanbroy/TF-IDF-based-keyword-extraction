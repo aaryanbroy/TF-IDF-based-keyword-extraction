{
  "nbformat": 4,
  "nbformat_minor": 0,
  "metadata": {
    "colab": {
      "provenance": []
    },
    "kernelspec": {
      "name": "python3",
      "display_name": "Python 3"
    },
    "language_info": {
      "name": "python"
    }
  },
  "cells": [
    {
      "source": [
        "import re\n",
        "from collections import Counter # Change 'counter' to 'Counter'"
      ],
      "cell_type": "code",
      "metadata": {
        "id": "YNsjU_bB3gNM"
      },
      "execution_count": null,
      "outputs": []
    },
    {
      "cell_type": "code",
      "source": [
        "def preprocess_text(text):\n",
        "  text = text.lower()\n",
        "  text = re.sub(r'[^a-zA-Z0-9\\s]','',text)\n",
        "  text = re.sub(r'\\s+',' ',text).strip()\n",
        "  return text\n",
        "\n",
        "def tokenize_text(text):\n",
        "  return text.split()\n",
        "\n",
        "def calculate_tf(tokens):\n",
        "  tf_counter = Counter(tokens)\n",
        "  total_tokens = len(tokens)\n",
        "  tf = {token: count/total_tokens for token, count in tf_counter.items()}\n",
        "  return tf\n",
        "\n",
        "def calculate_idf(documents):\n",
        "  idf = {}\n",
        "  total_documents = len(documents)\n",
        "  all_tokens = [token for doc in documents for token in set(doc.split())]\n",
        "  token_counter = Counter(all_tokens)\n",
        "  for token, count in token_counter.items():\n",
        "    idf[token] = total_documents / count\n",
        "\n",
        "  return idf\n",
        "\n",
        "def caculate_tfidf(tf,idf):\n",
        "  tfidf= {token: tf[token]*idf[token] for token in tf}\n",
        "  return tfidf\n",
        "\n",
        "def generate_summary(text,num_sentences=3):\n",
        "  text = preprocess_text(text)\n",
        "  tokens = tokenize_text(text)\n",
        "  tf = calculate_tf(tokens)\n",
        "  idf = calculate_idf([text])\n",
        "  tfidf = caculate_tfidf(tf,idf)\n",
        "  sorted_tokens = sorted(tfidf.items(),key=lambda x:x[1],reverse=True)\n",
        "  # Fix: Get the top N tokens for the summary\n",
        "  summary_tokens = [token for token, score in sorted_tokens] #Get all tokens\n",
        "  num_tokens = int(len(tokens)) # num_tokens is assigned but not used\n",
        "  summary = ' '.join(summary_tokens)\n",
        "  return summary\n",
        "\n",
        "\n",
        "def read_document_from_file(file_path):\n",
        "  with open(file_path,'r',encoding='utf-8') as file:\n",
        "    text = file.read()\n",
        "  return text\n",
        "\n",
        "\n",
        "file_path='/content/Ramayan.txt'\n",
        "document = read_document_from_file(file_path)\n",
        "summary = generate_summary(document)\n",
        "print(summary)"
      ],
      "metadata": {
        "colab": {
          "base_uri": "https://localhost:8080/"
        },
        "id": "KsRy6j1H-00Z",
        "outputId": "fdfff33e-5a72-4b20-ee49-48381b5afe0d"
      },
      "execution_count": null,
      "outputs": [
        {
          "output_type": "stream",
          "name": "stdout",
          "text": [
            "the and of to is rama a his sita by her in lakshmana king he forest ramayana life dasharatha kaikeyi born for exile ancient indian has on events kaushalya sumitra after bharata son that be they their sages demons ravana lanka an epic traditionally attributed sage valmiki it one most important literary works hinduism had profound influence culture art philosophy story revolves around prince wife loyal brother here summary main background set kingdom kosala ruled solar dynasty three queens despite having everything childless performing sacred ritual yajna blessed with four sons shatrughna key ramas youth marriage eldest beloved all virtue strength wisdom marries daughter janaka mithila proving worth stringing divine bow lord shiva decides crown as successor however queen influenced maid manthara demands crowned instead exiled 14 years bound fathers promise accepts without hesitation insist accompanying him trio settles dandaka where live simple during encounter various rakshasas protects defeating abduction demon learns sitas beauty devises plan abduct sends golden deer lure away from hut when left alone kidnaps takes search\n"
          ]
        }
      ]
    },
    {
      "cell_type": "code",
      "source": [
        "summary = generate_summary(document)\n",
        "print(\"original document:\")\n",
        "print(document)\n",
        "print(\"\\nsummary:\")\n",
        "print(summary)"
      ],
      "metadata": {
        "colab": {
          "base_uri": "https://localhost:8080/"
        },
        "id": "mlGbkguv-6yQ",
        "outputId": "5d0cb177-c6b0-44a4-d7b9-8cd6ac41a0c6"
      },
      "execution_count": null,
      "outputs": [
        {
          "output_type": "stream",
          "name": "stdout",
          "text": [
            "original document:\n",
            "The Ramayana is an ancient Indian epic, traditionally attributed to the sage Valmiki. It is one of the most important literary works in Hinduism and has had a profound influence on Indian culture, art, and philosophy. The story of the Ramayana revolves around the life of Prince Rama, his wife Sita, and his loyal brother Lakshmana. Here is a summary of the main events:\n",
            "\n",
            "Background\n",
            "The Ramayana is set in the ancient kingdom of Kosala, ruled by King Dasharatha of the solar dynasty. Dasharatha has three queens: Kaushalya, Kaikeyi, and Sumitra. Despite having everything, he is childless. After performing a sacred ritual (yajna), he is blessed with four sons: Rama (born to Kaushalya), Bharata (born to Kaikeyi), and Lakshmana and Shatrughna (born to Sumitra).\n",
            "\n",
            "Key Events\n",
            "Rama's Youth and Marriage\n",
            "\n",
            "Rama, the eldest son, is beloved by all for his virtue, strength, and wisdom.\n",
            "\n",
            "He marries Sita, the daughter of King Janaka of Mithila, after proving his worth by stringing the divine bow of Lord Shiva.\n",
            "\n",
            "Exile to the Forest\n",
            "\n",
            "King Dasharatha decides to crown Rama as his successor. However, Queen Kaikeyi, influenced by her maid Manthara, demands that her son Bharata be crowned instead and that Rama be exiled to the forest for 14 years.\n",
            "\n",
            "Bound by his father's promise, Rama accepts the exile without hesitation. Sita and Lakshmana insist on accompanying him.\n",
            "\n",
            "Life in the Forest\n",
            "\n",
            "The trio settles in the Dandaka forest, where they live a simple life.\n",
            "\n",
            "During their exile, they encounter various sages and demons (rakshasas). Rama protects the sages by defeating the demons.\n",
            "\n",
            "Abduction of Sita\n",
            "\n",
            "Ravana, the demon king of Lanka, learns of Sita's beauty and devises a plan to abduct her.\n",
            "\n",
            "He sends a golden deer to lure Rama and Lakshmana away from their hut. When Sita is left alone, Ravana kidnaps her and takes her to Lanka.\n",
            "\n",
            "Search for Sita\n",
            "\n",
            "\n",
            "\n",
            "summary:\n",
            "the and of to is rama a his sita by her in lakshmana king he forest ramayana life dasharatha kaikeyi born for exile ancient indian has on events kaushalya sumitra after bharata son that be they their sages demons ravana lanka an epic traditionally attributed sage valmiki it one most important literary works hinduism had profound influence culture art philosophy story revolves around prince wife loyal brother here summary main background set kingdom kosala ruled solar dynasty three queens despite having everything childless performing sacred ritual yajna blessed with four sons shatrughna key ramas youth marriage eldest beloved all virtue strength wisdom marries daughter janaka mithila proving worth stringing divine bow lord shiva decides crown as successor however queen influenced maid manthara demands crowned instead exiled 14 years bound fathers promise accepts without hesitation insist accompanying him trio settles dandaka where live simple during encounter various rakshasas protects defeating abduction demon learns sitas beauty devises plan abduct sends golden deer lure away from hut when left alone kidnaps takes search\n"
          ]
        }
      ]
    },
    {
      "cell_type": "code",
      "source": [
        "import nltk\n",
        "nltk.download('punkt')\n",
        "nltk.download('punkt_tab')\n",
        "\n",
        "from ast import parse\n",
        "from  sumy.parsers.plaintext import PlaintextParser\n",
        "from sumy.nlp.tokenizers import Tokenizer\n",
        "from sumy.summarizers.lex_rank import LexRankSummarizer\n",
        "\n",
        "def load_document(filename):\n",
        "  with open(filename, 'r', encoding='utf-8') as file:\n",
        "      text= file.read()\n",
        "  return text\n",
        "\n",
        "def summarize_text(text, num_sentences=3):\n",
        "  parser = PlaintextParser.from_string(text, Tokenizer('english'))\n",
        "  summarizer = LexRankSummarizer()\n",
        "  summary = summarizer(parser.document, num_sentences)\n",
        "  return \" \".join(str(sentence) for sentence in summary)\n",
        "\n",
        "filename = \"/content/Ramayan.txt\"\n",
        "import nltk\n",
        "nltk.download('punkt')\n",
        "#nltk.download('punkt_tab') # punkt_tab is not a valid nltk resource\n",
        "\n",
        "from ast import parse\n",
        "from sumy.parsers.plaintext import PlaintextParser\n",
        "from sumy.nlp.tokenizers import Tokenizer\n",
        "from sumy.summarizers.lex_rank import LexRankSummarizer\n",
        "\n",
        "def load_document(filename):\n",
        "  with open(filename, 'r', encoding='utf-8') as file:\n",
        "      text= file.read()\n",
        "  return text\n",
        "\n",
        "def summarize_text(text, num_sentences=3):\n",
        "  parser = PlaintextParser.from_string(text, Tokenizer('english'))\n",
        "  summarizer = LexRankSummarizer()\n",
        "  summary = summarizer(parser.document, num_sentences)\n",
        "  return \" \".join(str(sentence) for sentence in summary)\n",
        "\n",
        "filename= '/content/Ramayan.txt'\n",
        "text = load_document(filename)\n",
        "summary = summarize_text(text, num_sentences=3)\n",
        "print(\"Summary:\\n\", summary)\n"
      ],
      "metadata": {
        "colab": {
          "base_uri": "https://localhost:8080/"
        },
        "id": "L1TVQSXs9h3H",
        "outputId": "88f57e28-5b31-44cc-b9d3-f330e6ff23ae"
      },
      "execution_count": null,
      "outputs": [
        {
          "output_type": "stream",
          "name": "stdout",
          "text": [
            "Summary:\n",
            " Background The Ramayana is set in the ancient kingdom of Kosala, ruled by King Dasharatha of the solar dynasty. Exile to the Forest Ravana, the demon king of Lanka, learns of Sita's beauty and devises a plan to abduct her.\n"
          ]
        },
        {
          "output_type": "stream",
          "name": "stderr",
          "text": [
            "[nltk_data] Downloading package punkt to /root/nltk_data...\n",
            "[nltk_data]   Package punkt is already up-to-date!\n",
            "[nltk_data] Downloading package punkt_tab to /root/nltk_data...\n",
            "[nltk_data]   Package punkt_tab is already up-to-date!\n",
            "[nltk_data] Downloading package punkt to /root/nltk_data...\n",
            "[nltk_data]   Package punkt is already up-to-date!\n"
          ]
        }
      ]
    },
    {
      "source": [
        "!pip install sumy"
      ],
      "cell_type": "code",
      "metadata": {
        "colab": {
          "base_uri": "https://localhost:8080/"
        },
        "id": "_XhEM-o56Nop",
        "outputId": "18b5053c-bb5e-4698-9c87-25ffda033ac7"
      },
      "execution_count": null,
      "outputs": [
        {
          "output_type": "stream",
          "name": "stdout",
          "text": [
            "Collecting sumy\n",
            "  Downloading sumy-0.11.0-py2.py3-none-any.whl.metadata (7.5 kB)\n",
            "Collecting docopt<0.7,>=0.6.1 (from sumy)\n",
            "  Downloading docopt-0.6.2.tar.gz (25 kB)\n",
            "  Preparing metadata (setup.py) ... \u001b[?25l\u001b[?25hdone\n",
            "Collecting breadability>=0.1.20 (from sumy)\n",
            "  Downloading breadability-0.1.20.tar.gz (32 kB)\n",
            "  Preparing metadata (setup.py) ... \u001b[?25l\u001b[?25hdone\n",
            "Requirement already satisfied: requests>=2.7.0 in /usr/local/lib/python3.11/dist-packages (from sumy) (2.32.3)\n",
            "Collecting pycountry>=18.2.23 (from sumy)\n",
            "  Downloading pycountry-24.6.1-py3-none-any.whl.metadata (12 kB)\n",
            "Requirement already satisfied: nltk>=3.0.2 in /usr/local/lib/python3.11/dist-packages (from sumy) (3.9.1)\n",
            "Requirement already satisfied: chardet in /usr/local/lib/python3.11/dist-packages (from breadability>=0.1.20->sumy) (5.2.0)\n",
            "Requirement already satisfied: lxml>=2.0 in /usr/local/lib/python3.11/dist-packages (from breadability>=0.1.20->sumy) (5.3.1)\n",
            "Requirement already satisfied: click in /usr/local/lib/python3.11/dist-packages (from nltk>=3.0.2->sumy) (8.1.8)\n",
            "Requirement already satisfied: joblib in /usr/local/lib/python3.11/dist-packages (from nltk>=3.0.2->sumy) (1.4.2)\n",
            "Requirement already satisfied: regex>=2021.8.3 in /usr/local/lib/python3.11/dist-packages (from nltk>=3.0.2->sumy) (2024.11.6)\n",
            "Requirement already satisfied: tqdm in /usr/local/lib/python3.11/dist-packages (from nltk>=3.0.2->sumy) (4.67.1)\n",
            "Requirement already satisfied: charset-normalizer<4,>=2 in /usr/local/lib/python3.11/dist-packages (from requests>=2.7.0->sumy) (3.4.1)\n",
            "Requirement already satisfied: idna<4,>=2.5 in /usr/local/lib/python3.11/dist-packages (from requests>=2.7.0->sumy) (3.10)\n",
            "Requirement already satisfied: urllib3<3,>=1.21.1 in /usr/local/lib/python3.11/dist-packages (from requests>=2.7.0->sumy) (2.3.0)\n",
            "Requirement already satisfied: certifi>=2017.4.17 in /usr/local/lib/python3.11/dist-packages (from requests>=2.7.0->sumy) (2025.1.31)\n",
            "Downloading sumy-0.11.0-py2.py3-none-any.whl (97 kB)\n",
            "\u001b[2K   \u001b[90m━━━━━━━━━━━━━━━━━━━━━━━━━━━━━━━━━━━━━━━━\u001b[0m \u001b[32m97.3/97.3 kB\u001b[0m \u001b[31m4.0 MB/s\u001b[0m eta \u001b[36m0:00:00\u001b[0m\n",
            "\u001b[?25hDownloading pycountry-24.6.1-py3-none-any.whl (6.3 MB)\n",
            "\u001b[2K   \u001b[90m━━━━━━━━━━━━━━━━━━━━━━━━━━━━━━━━━━━━━━━━\u001b[0m \u001b[32m6.3/6.3 MB\u001b[0m \u001b[31m56.8 MB/s\u001b[0m eta \u001b[36m0:00:00\u001b[0m\n",
            "\u001b[?25hBuilding wheels for collected packages: breadability, docopt\n",
            "  Building wheel for breadability (setup.py) ... \u001b[?25l\u001b[?25hdone\n",
            "  Created wheel for breadability: filename=breadability-0.1.20-py2.py3-none-any.whl size=21691 sha256=e96fc4142a530086d3008c9cc9eade05e8b393a74c4b5d27f2dd1c8c2f95e551\n",
            "  Stored in directory: /root/.cache/pip/wheels/4d/57/58/7e3d7fedf51fe248b7fcee3df6945ae28638e22cddf01eb92b\n",
            "  Building wheel for docopt (setup.py) ... \u001b[?25l\u001b[?25hdone\n",
            "  Created wheel for docopt: filename=docopt-0.6.2-py2.py3-none-any.whl size=13706 sha256=438b3613ac3c29c5dc2cf12f5d54cf80f4c6de538f1c37bfd602a0506d68198b\n",
            "  Stored in directory: /root/.cache/pip/wheels/1a/b0/8c/4b75c4116c31f83c8f9f047231251e13cc74481cca4a78a9ce\n",
            "Successfully built breadability docopt\n",
            "Installing collected packages: docopt, pycountry, breadability, sumy\n",
            "Successfully installed breadability-0.1.20 docopt-0.6.2 pycountry-24.6.1 sumy-0.11.0\n"
          ]
        }
      ]
    },
    {
      "cell_type": "code",
      "source": [
        "import re\n",
        "import nltk\n",
        "from collections import Counter\n",
        "from nltk.tokenize import sent_tokenize, word_tokenize\n",
        "from nltk.corpus import stopwords\n",
        "from sumy.parsers.plaintext import PlaintextParser\n",
        "from sumy.nlp.tokenizers import Tokenizer\n",
        "from sumy.summarizers.lsa import LsaSummarizer\n",
        "\n",
        "# Download required NLTK data\n",
        "nltk.download('punkt')\n",
        "nltk.download('stopwords')\n",
        "\n",
        "def read_text_file(file_path):\n",
        "    \"\"\"Read text from file\"\"\"\n",
        "    with open(file_path, 'r', encoding='utf-8') as file:\n",
        "        return file.read()\n",
        "\n",
        "def clean_text(text):\n",
        "    \"\"\"More aggressive text cleaning\"\"\"\n",
        "    text = text.lower()\n",
        "    # Remove punctuation but keep sentence structure\n",
        "    text = re.sub(r'[^\\w\\s.]', ' ', text)\n",
        "    # Remove extra spaces\n",
        "    text = re.sub(r'\\s+', ' ', text).strip()\n",
        "    return text\n",
        "\n",
        "def remove_stopwords(text):\n",
        "    \"\"\"Improved stopword removal that handles contractions and punctuation\"\"\"\n",
        "    stop_words = set(stopwords.words('english'))\n",
        "    # Add common contractions and punctuation artifacts\n",
        "    stop_words.update([\"'s\", \"'re\", \"'ve\", \"'d\", \"'ll\", \"'m\", \"e.g\", \"eg\"])\n",
        "    words = word_tokenize(text)\n",
        "    return ' '.join([word for word in words if word.lower() not in stop_words])\n",
        "\n",
        "def custom_summarizer(text, num_sentences=3):\n",
        "    \"\"\"Custom summarizer with stopwords removed before processing\"\"\"\n",
        "    original_sentences = sent_tokenize(text)\n",
        "    cleaned_sentences = [clean_text(sent) for sent in original_sentences]\n",
        "\n",
        "    # Create a version without stopwords for scoring\n",
        "    no_stop_sentences = [remove_stopwords(sent) for sent in cleaned_sentences]\n",
        "\n",
        "    # Calculate word importance from the no-stopwords version\n",
        "    all_words = ' '.join(no_stop_sentences).split()\n",
        "    word_freq = Counter(all_words)\n",
        "    max_freq = max(word_freq.values()) if word_freq else 1\n",
        "    word_scores = {word: freq/max_freq for word, freq in word_freq.items()}\n",
        "\n",
        "    # Score original sentences (but using importance from cleaned version)\n",
        "    sentence_scores = {}\n",
        "    for i, sentence in enumerate(no_stop_sentences):\n",
        "        score = sum(word_scores.get(word, 0) for word in sentence.split())\n",
        "        sentence_scores[i] = score / len(sentence.split()) if sentence else 0\n",
        "\n",
        "    # Get top sentences from original (for proper grammar)\n",
        "    ranked = sorted(sentence_scores.items(), key=lambda x: x[1], reverse=True)\n",
        "    top_indices = [idx for idx, _ in ranked[:num_sentences]]\n",
        "    summary = ' '.join([original_sentences[idx] for idx in sorted(top_indices)])\n",
        "\n",
        "    # Final cleaning\n",
        "    return remove_stopwords(summary)\n",
        "\n",
        "def sumy_summarizer_no_stopwords(text, num_sentences=3):\n",
        "    \"\"\"Modified Sumy summarizer that considers stopword-free text\"\"\"\n",
        "    # First clean the entire text\n",
        "    cleaned_text = remove_stopwords(clean_text(text))\n",
        "\n",
        "    # Use Sumy on cleaned text\n",
        "    parser = PlaintextParser.from_string(cleaned_text, Tokenizer(\"english\"))\n",
        "    summarizer = LsaSummarizer()\n",
        "    summary = summarizer(parser.document, num_sentences)\n",
        "\n",
        "    # Join and clean again\n",
        "    summary_text = ' '.join(str(sent) for sent in summary)\n",
        "    return re.sub(r'\\s+', ' ', summary_text).strip()  # Clean extra spaces\n",
        "\n",
        "# Main execution\n",
        "if __name__ == \"__main__\":\n",
        "    file_path = 'Ramayan.txt'\n",
        "    text = read_text_file(file_path)\n",
        "\n",
        "    print(\"=\"*80)\n",
        "    print(\"Original Text:\")\n",
        "    print(text)\n",
        "    print(\"=\"*80)\n",
        "\n",
        "    print(\"\\nCustom Summary (without stopwords):\")\n",
        "    custom_summary = custom_summarizer(text)\n",
        "    print(custom_summary)\n",
        "\n",
        "    print(\"\\nSumy LSA Summary (without stopwords):\")\n",
        "    sumy_summary = sumy_summarizer_no_stopwords(text)\n",
        "    print(sumy_summary)\n",
        "    print(\"=\"*80)"
      ],
      "metadata": {
        "colab": {
          "base_uri": "https://localhost:8080/"
        },
        "id": "WQQRiuXWAo0H",
        "outputId": "0c95c08f-f759-4e94-bb51-2ccc4fb6ffe5"
      },
      "execution_count": null,
      "outputs": [
        {
          "output_type": "stream",
          "name": "stdout",
          "text": [
            "================================================================================\n",
            "Original Text:\n",
            "The Ramayana is an ancient Indian epic, traditionally attributed to the sage Valmiki. It is one of the most important literary works in Hinduism and has had a profound influence on Indian culture, art, and philosophy. The story of the Ramayana revolves around the life of Prince Rama, his wife Sita, and his loyal brother Lakshmana. Here is a summary of the main events:\n",
            "\n",
            "Background\n",
            "The Ramayana is set in the ancient kingdom of Kosala, ruled by King Dasharatha of the solar dynasty. Dasharatha has three queens: Kaushalya, Kaikeyi, and Sumitra. Despite having everything, he is childless. After performing a sacred ritual (yajna), he is blessed with four sons: Rama (born to Kaushalya), Bharata (born to Kaikeyi), and Lakshmana and Shatrughna (born to Sumitra).\n",
            "\n",
            "Key Events\n",
            "Rama's Youth and Marriage\n",
            "\n",
            "Rama, the eldest son, is beloved by all for his virtue, strength, and wisdom.\n",
            "\n",
            "He marries Sita, the daughter of King Janaka of Mithila, after proving his worth by stringing the divine bow of Lord Shiva.\n",
            "\n",
            "Exile to the Forest\n",
            "\n",
            "King Dasharatha decides to crown Rama as his successor. However, Queen Kaikeyi, influenced by her maid Manthara, demands that her son Bharata be crowned instead and that Rama be exiled to the forest for 14 years.\n",
            "\n",
            "Bound by his father's promise, Rama accepts the exile without hesitation. Sita and Lakshmana insist on accompanying him.\n",
            "\n",
            "Life in the Forest\n",
            "\n",
            "The trio settles in the Dandaka forest, where they live a simple life.\n",
            "\n",
            "During their exile, they encounter various sages and demons (rakshasas). Rama protects the sages by defeating the demons.\n",
            "\n",
            "Abduction of Sita\n",
            "\n",
            "Ravana, the demon king of Lanka, learns of Sita's beauty and devises a plan to abduct her.\n",
            "\n",
            "He sends a golden deer to lure Rama and Lakshmana away from their hut. When Sita is left alone, Ravana kidnaps her and takes her to Lanka.\n",
            "\n",
            "Search for Sita\n",
            "\n",
            "\n",
            "================================================================================\n",
            "\n",
            "Custom Summary (without stopwords):\n",
            "Despite everything , childless . Sita Lakshmana insist accompanying . Rama protects sages defeating demons .\n",
            "\n",
            "Sumy LSA Summary (without stopwords):\n",
            "summary main events background ramayana set ancient kingdom kosala ruled king dasharatha solar dynasty . marries sita daughter king janaka mithila proving worth stringing divine bow lord shiva . however queen kaikeyi influenced maid manthara demands son bharata crowned instead rama exiled forest 14 years .\n",
            "================================================================================\n"
          ]
        },
        {
          "output_type": "stream",
          "name": "stderr",
          "text": [
            "[nltk_data] Downloading package punkt to /root/nltk_data...\n",
            "[nltk_data]   Package punkt is already up-to-date!\n",
            "[nltk_data] Downloading package stopwords to /root/nltk_data...\n",
            "[nltk_data]   Package stopwords is already up-to-date!\n"
          ]
        }
      ]
    }
  ]
}